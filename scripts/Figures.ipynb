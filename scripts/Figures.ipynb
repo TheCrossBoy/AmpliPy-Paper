{
 "cells": [
  {
   "cell_type": "markdown",
   "id": "4e578a31",
   "metadata": {},
   "source": [
    "### Imports and Definitions"
   ]
  },
  {
   "cell_type": "code",
   "execution_count": 43,
   "id": "ad9b2f07",
   "metadata": {},
   "outputs": [],
   "source": [
    "from glob import glob\n",
    "from math import log10\n",
    "from matplotlib import rcParams\n",
    "from matplotlib.lines import Line2D\n",
    "from os import makedirs\n",
    "from seaborn import pointplot, set_context, set_style, violinplot\n",
    "from zipfile import ZipFile\n",
    "import matplotlib.pyplot as plt\n",
    "ZERO_THRESH = 0.0000000001\n",
    "DATADIR = '../data'\n",
    "FIGDIR = '../figs'; makedirs(FIGDIR, exist_ok=True)\n",
    "RC = {\"font.size\":12,\"axes.titlesize\":16,\"axes.labelsize\":14,\"legend.fontsize\":10,\"xtick.labelsize\":10,\"ytick.labelsize\":10}\n",
    "set_context(\"paper\", rc=RC); set_style(\"ticks\"); rcParams['font.family'] = 'serif'\n",
    "rcParams['patch.edgecolor'] = '4C4C4C' # set boxenplot outlines same as violinplot\n",
    "meta = {\n",
    "    'time_fn': {\n",
    "        # 'SEQTK':                      'time.01.seqtk.subsample.txt',\n",
    "        # 'MINIMAP2':                   'time.02.minimap2.txt',\n",
    "        # 'SAMTOOLS_SORT_UNTRIMMED':    'time.03.samtools.sort.untrimmed.txt',\n",
    "        # 'IVAR_TRIM':                  'time.04.ivar.trim.txt',\n",
    "        # 'SAMTOOLS_SORT_IVAR_TRIMMED': 'time.05.samtools.sort.ivar.trimmed.txt',\n",
    "        # 'SAMTOOLS_PILEUP':            'time.06.samtools.pileup.txt',\n",
    "        # 'IVAR_VARIANTS':              'time.07.ivar.variants.txt',\n",
    "        # 'IVAR_CONSENSUS':             'time.08.ivar.consensus.txt',\n",
    "        # 'AMPLIPY_TRIM':               'time.09.amplipy.trim.txt',\n",
    "        # 'AMPLIPY_VARIANTS':           'time.10.amplipy.variants.txt',\n",
    "        # 'AMPLIPY_CONSENSUS':          'time.11.amplipy.consensus.txt',\n",
    "        'AMPLIPY_AIO':                'time.12.amplipy.aio.txt',\n",
    "    },\n",
    "    \n",
    "    \n",
    "    'label': {\n",
    "        'amplipy_aio': 'AmpliPy (AIO)',\n",
    "        # 'ivar_pipeline': 'iVar (Pipeline)',\n",
    "        'time': 'Total Runtime (s)',\n",
    "        'mem': 'Peak Memory (MB)',\n",
    "        # 'ratio_time': 'iVar/AmpliPy Runtime Ratio',\n",
    "        # 'ratio_mem': 'iVar/AmpliPy Peak Memory Ratio',\n",
    "        \n",
    "    },\n",
    "    \n",
    "    'color': {\n",
    "        # 'amplipy_aio': 'green',\n",
    "        # 'ivar_pipeline': 'red',\n",
    "        # 'ratio': 'black',\n",
    "        1: 'red',\n",
    "        3: 'orange',\n",
    "        4: 'yellow',\n",
    "        6: 'green',\n",
    "        8: 'cyan',\n",
    "        10: 'blue',\n",
    "        12: 'indigo',\n",
    "        16: 'violet',\n",
    "    },\n",
    "    \n",
    "    'linestyle': {\n",
    "        'amplipy_aio': '-',\n",
    "        # 'ivar_pipeline': '--',\n",
    "        # 'ratio': '-',\n",
    "    },\n",
    "    \n",
    "    'steps': {\n",
    "        'ivar_pipeline': ['SAMTOOLS_SORT_UNTRIMMED', 'IVAR_TRIM', 'SAMTOOLS_SORT_IVAR_TRIMMED', 'SAMTOOLS_PILEUP', 'IVAR_VARIANTS', 'IVAR_CONSENSUS'],\n",
    "        'amplipy_aio': ['AMPLIPY_AIO'],\n",
    "        'iVar (Variants + Consensus)': ['SAMTOOLS_SORT_IVAR_TRIMMED', 'SAMTOOLS_PILEUP', 'IVAR_VARIANTS', 'IVAR_CONSENSUS'],\n",
    "        'AmpliPy (Variants + Consensus)': ['AMPLIPY_VARIANTS', 'AMPLIPY_CONSENSUS'],\n",
    "    },\n",
    "}"
   ]
  },
  {
   "cell_type": "markdown",
   "id": "bf0b6a55",
   "metadata": {},
   "source": [
    "### Helper: Convert Power of 10 to Scientific Notation"
   ]
  },
  {
   "cell_type": "code",
   "execution_count": 4,
   "id": "ad666b72",
   "metadata": {},
   "outputs": [],
   "source": [
    "def sci_not_mult10(n):\n",
    "    p = log10(n)\n",
    "    assert abs(p-int(p)) < ZERO_THRESH, \"Not a power of 10: %s\" % n\n",
    "    return r'$10^%d$' % p"
   ]
  },
  {
   "cell_type": "markdown",
   "id": "9fe48479",
   "metadata": {},
   "source": [
    "### Helper: Parse `/usr/bin/time` Output"
   ]
  },
  {
   "cell_type": "code",
   "execution_count": 5,
   "id": "1da23446",
   "metadata": {},
   "outputs": [],
   "source": [
    "def parse_time_output(lines):\n",
    "    t = None; m = None\n",
    "    for l in lines:\n",
    "        if l.strip().startswith('Elapsed (wall clock) time (h:mm:ss or m:ss)'):\n",
    "            parts = l.split()[-1].split(':')\n",
    "            if len(parts) == 3: # h:mm:ss\n",
    "                t = float(parts[0])*3600 + float(parts[1])*60 + float(parts[2])\n",
    "            elif len(parts) == 2: # m:ss\n",
    "                t = float(parts[0])*60 + float(parts[1])\n",
    "            else:\n",
    "                assert False, \"Invalid time: %s\" % ':'.join(parts)\n",
    "        elif l.strip().startswith('Maximum resident set size (kbytes)'):\n",
    "            m = int(l.split()[-1]) / 1024 # store peak memory as MB instead of KB\n",
    "    assert t is not None, \"Failed to parse runtime\"\n",
    "    assert m is not None, \"Failed to parse peak memory\"\n",
    "    return t, m"
   ]
  },
  {
   "cell_type": "markdown",
   "id": "d02a0d87",
   "metadata": {},
   "source": [
    "### Load Data from Zips"
   ]
  },
  {
   "cell_type": "code",
   "execution_count": 6,
   "id": "7a2174df",
   "metadata": {},
   "outputs": [],
   "source": [
    "data = dict()\n",
    "for z_fn in glob('%s/p*/n*/p*.n*.r*.zip' % DATADIR):\n",
    "    p = int(z_fn.split('/')[-1].split('.')[0].lstrip('p'))\n",
    "    n = int(z_fn.split('/')[-1].split('.')[1].lstrip('n'))\n",
    "    r = int(z_fn.split('/')[-1].split('.')[2].lstrip('r'))\n",
    "    z = ZipFile(z_fn)\n",
    "    if p not in data:\n",
    "        data[p] = dict()\n",
    "    if n not in data[p]:\n",
    "        data[p][n] = dict()\n",
    "    if r not in data[p][n]:\n",
    "        data[p][n][r] = dict()\n",
    "    for comp_fn in z.namelist():\n",
    "        if comp_fn.startswith('time.'):\n",
    "            t, m = parse_time_output(z.read(comp_fn).decode().splitlines())\n",
    "            data[p][n][r][comp_fn] = {'time':t, 'mem':m}"
   ]
  },
  {
   "cell_type": "markdown",
   "id": "9cfcc349",
   "metadata": {},
   "source": [
    "### Plot Pipeline Runtime and Peak Memory vs. *n*"
   ]
  },
  {
   "cell_type": "code",
   "execution_count": 50,
   "id": "cf2ffb80",
   "metadata": {},
   "outputs": [
    {
     "data": {
      "image/png": "[encoded data removed]",
      "text/plain": [
       "<Figure size 432x288 with 1 Axes>"
      ]
     },
     "metadata": {},
     "output_type": "display_data"
    }
   ],
   "source": [
    "for plot in ['time']:\n",
    "    fig, ax = plt.subplots(); handles = list()\n",
    "    for processes in sorted(data.keys()):\n",
    "        handles.append(Line2D([0],[0],color=meta['color'][processes],label=str(processes),linewidth=1.5,linestyle='-'))\n",
    "        x = list(); y = list()\n",
    "        for n in sorted(data[processes].keys()):\n",
    "            for r in sorted(data[processes][n].keys()):\n",
    "                x.append(sci_not_mult10(n))\n",
    "                if plot == 'time':\n",
    "                    y.append(data[processes][n][r][meta['time_fn']['AMPLIPY_AIO']][plot])\n",
    "                elif plot == 'mem':\n",
    "                    y.append(max(data[processes][n][r][meta['time_fn'][step]][plot] for step in meta['steps']['amplipy_aio']))\n",
    "        pointplot(x=x, y=y, color=meta['color'][processes], linestyles='-')\n",
    "    plt.xlabel(r'Number of Reads $\\left(n\\right)$')\n",
    "    plt.ylabel(meta['label'][plot])\n",
    "    plt.title(meta['label'][plot])\n",
    "    #ax.set_yscale('log')\n",
    "    plt.legend(handles=handles,bbox_to_anchor=(0.005, 0.995), loc=2, borderaxespad=0., frameon=True)\n",
    "    fig.savefig('%s/%s.pdf' % (FIGDIR, plot), format='pdf', bbox_inches='tight')"
   ]
  }
 ],
 "metadata": {
  "interpreter": {
   "hash": "b656666d0181962ea4b7bd728ea2dcf27e5f46deefd79834ea9840891207af75"
  },
  "kernelspec": {
   "display_name": "Python 3.9.1 ('base')",
   "language": "python",
   "name": "python3"
  },
  "language_info": {
   "codemirror_mode": {
    "name": "ipython",
    "version": 3
   },
   "file_extension": ".py",
   "mimetype": "text/x-python",
   "name": "python",
   "nbconvert_exporter": "python",
   "pygments_lexer": "ipython3",
   "version": "3.9.1"
  }
 },
 "nbformat": 4,
 "nbformat_minor": 5
}
